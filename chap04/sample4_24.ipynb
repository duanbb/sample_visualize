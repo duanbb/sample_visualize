{
 "cells": [
  {
   "cell_type": "code",
   "execution_count": 1,
   "metadata": {
    "scrolled": false
   },
   "outputs": [
    {
     "data": {
      "image/png": "[encoded data removed]",
      "text/plain": [
       "<Figure size 432x288 with 1 Axes>"
      ]
     },
     "metadata": {},
     "output_type": "display_data"
    }
   ],
   "source": [
    "# サンプル4-24-1\n",
    "%matplotlib inline\n",
    "import numpy as np\n",
    "import matplotlib.pyplot as plt\n",
    "from matplotlib.patches import Polygon\n",
    "\n",
    "# 多項式による曲線を返す関数\n",
    "def func(x):\n",
    "    return (x - 3) * (x - 5) * (x - 7) + 100\n",
    "\n",
    "x = np.linspace(0, 10)            # 0～10で50個の等差数列を生成\n",
    "y = func(x)                       # 多項式の関数を適用\n",
    "\n",
    "# FigureとAxesの生成\n",
    "fig, ax = plt.subplots()          # Figure上にAxesを配置\n",
    "ax.plot(x, y, 'red', linewidth=2) # 線幅2pt、赤のラインをプロット\n",
    "ax.set_ylim(ymin=0)               # y軸の下限を0に設定\n",
    "\n",
    "# 面積を表す領域を生成\n",
    "a, b = 3, 8                       # 面積を表す範囲\n",
    "x_area = np.linspace(a, b)        # a～bで50個の等差数列を生成\n",
    "y_area = func(x_area)             # 多項式の関数を適用\n",
    "# (a,0)→(x_area, y_area)→(b, 0)タプルのリスト\n",
    "param = [(a, 0)] + list(zip(x_area, y_area)) + [(b, 0)]\n",
    "# Polygonオブジェクトを生成\n",
    "poly = Polygon(param,\n",
    "               facecolor='pink',  # ピンクで塗りつぶす\n",
    "               edgecolor='black'  # エッジラインは黒\n",
    "              )\n",
    "# PolygonオブジェクトをAxesに配置する\n",
    "ax.add_patch(poly)\n",
    "\n",
    "# 数式、軸ラベル、目盛ラベルの表示\n",
    "plt.text(0.5 * (a + b), 30,               # 配置するx、yの位置\n",
    "         r\"$S=\\int_a^b f(x)\\mathrm{d}x$\", # 面積Sを求める定積分の式\n",
    "         horizontalalignment='center',    # テキスト全体の左右中央を基準にする\n",
    "         fontsize=15                      # 文字サイズは15pt\n",
    "        )\n",
    "\n",
    "fig.text(0.9, 0.05, r'$x$')               # y軸の先端にラベルを表示\n",
    "fig.text(0.1, 0.9, r'$y$')                # x軸の先端にラベルを表示\n",
    "\n",
    "ax.xaxis.set_ticks_position('bottom')     # x軸の目盛ラベルを軸の下側にセット\n",
    "ax.set_xticks((a, b))                     # 目盛ラベルの表示位置\n",
    "ax.set_xticklabels((r'$a$', r'$b$'))      # 目盛ラベルを数式で表示\n",
    "\n",
    "# Axesの境界線の設定\n",
    "ax.spines['right'].set_visible(False)     # Axesの右側の境界線を非表示にする\n",
    "ax.spines['top'].set_visible(False)       # Axesの上側の境界線を非表示にする\n",
    "\n",
    "plt.show()"
   ]
  },
  {
   "cell_type": "code",
   "execution_count": null,
   "metadata": {},
   "outputs": [],
   "source": []
  }
 ],
 "metadata": {
  "kernelspec": {
   "display_name": "Python 3",
   "language": "python",
   "name": "python3"
  },
  "language_info": {
   "codemirror_mode": {
    "name": "ipython",
    "version": 3
   },
   "file_extension": ".py",
   "mimetype": "text/x-python",
   "name": "python",
   "nbconvert_exporter": "python",
   "pygments_lexer": "ipython3",
   "version": "3.6.6"
  }
 },
 "nbformat": 4,
 "nbformat_minor": 2
}
