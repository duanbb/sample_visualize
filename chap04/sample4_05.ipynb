{
 "cells": [
  {
   "cell_type": "code",
   "execution_count": null,
   "metadata": {},
   "outputs": [],
   "source": [
    "# サンプル4-05-1\n",
    "import matplotlib\n",
    "matplotlib.matplotlib_fname()"
   ]
  },
  {
   "cell_type": "code",
   "execution_count": null,
   "metadata": {},
   "outputs": [],
   "source": [
    "# サンプル4-05-2\n",
    "matplotlib.get_configdir()"
   ]
  },
  {
   "cell_type": "code",
   "execution_count": null,
   "metadata": {
    "scrolled": true
   },
   "outputs": [],
   "source": [
    "# サンプル4-05-3\n",
    "import matplotlib\n",
    "matplotlib.rcParams['font.family']"
   ]
  },
  {
   "cell_type": "code",
   "execution_count": null,
   "metadata": {},
   "outputs": [],
   "source": [
    "# サンプル4-05-4\n",
    "%matplotlib inline\n",
    "import matplotlib.pyplot as plt\n",
    " \n",
    "plt.figure()\n",
    "plt.title('日本語の表示')\n",
    "plt.xlabel('x軸ラベル')\n",
    "plt.ylabel('y軸ラベル')\n",
    "plt.show()"
   ]
  },
  {
   "cell_type": "code",
   "execution_count": null,
   "metadata": {},
   "outputs": [],
   "source": [
    "# サンプル4-05-5\n",
    "fig, ax = plt.subplots(figsize=(3, 3))\n",
    "\n",
    "ax.text(0.1,0.9, '数式を書きます', size=15)\n",
    "\n",
    "# ルート記号 3√x\n",
    "ax.text(0.1,0.7, r'$\\sqrt[3]{x}$', size=15)\n",
    "# 下付き文字は_、上付きは^を使用\n",
    "ax.text(0.1,0.5, r'$\\alpha_i + \\beta^i$', size=15)\n",
    "# 総和記号の例\n",
    "ax.text(0.1,0.2, r'$\\sum_{i=0}^\\infty x_i$', size=20)\n",
    "\n",
    "plt.show()"
   ]
  },
  {
   "cell_type": "code",
   "execution_count": null,
   "metadata": {},
   "outputs": [],
   "source": []
  },
  {
   "cell_type": "code",
   "execution_count": null,
   "metadata": {},
   "outputs": [],
   "source": []
  }
 ],
 "metadata": {
  "kernelspec": {
   "display_name": "Python 3",
   "language": "python",
   "name": "python3"
  },
  "language_info": {
   "codemirror_mode": {
    "name": "ipython",
    "version": 3
   },
   "file_extension": ".py",
   "mimetype": "text/x-python",
   "name": "python",
   "nbconvert_exporter": "python",
   "pygments_lexer": "ipython3",
   "version": "3.6.6"
  }
 },
 "nbformat": 4,
 "nbformat_minor": 2
}
