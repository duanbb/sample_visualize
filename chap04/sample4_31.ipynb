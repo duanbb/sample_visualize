{
 "cells": [
  {
   "cell_type": "code",
   "execution_count": 1,
   "metadata": {},
   "outputs": [
    {
     "data": {
      "image/png": "[encoded data removed]",
      "text/plain": [
       "<Figure size 576x288 with 2 Axes>"
      ]
     },
     "metadata": {},
     "output_type": "display_data"
    }
   ],
   "source": [
    "# サンプル4-31-1\n",
    "%matplotlib inline\n",
    "import numpy as np\n",
    "import matplotlib.pyplot as plt\n",
    "\n",
    "# 乱数生成のシード(種)を設定し、常に同じ乱数を生成させる\n",
    "np.random.seed(10)\n",
    "\n",
    "# 正規分布するデータを生成\n",
    "mu = 200    # 分布の平均\n",
    "sigma = 30  # 分布の標準偏差\n",
    "# 平均200、標準偏差30の正規分布からランダムに500個をサンプリング\n",
    "x = np.random.normal(mu, sigma, size=100)\n",
    "\n",
    "# Figure上に1×2のグリッドを作成\n",
    "fig, (ax1, ax2) = plt.subplots(1, 2, figsize=(8, 4))\n",
    "\n",
    "# すべてのビンの幅が等しいヒストグラムをプロット\n",
    "ax1.hist(x,                      # データを設定\n",
    "         20,                     # ビンの数\n",
    "         density=True,           # バーの表示を確率にする\n",
    "         histtype='stepfilled',  # 階段状のヒストグラム\n",
    "         facecolor='blue',       # バーの色\n",
    "         alpha=0.65              # バーの透過度\n",
    "        )\n",
    "ax1.set_title('Monospaced bins') # グラフタイトル\n",
    "\n",
    "# 7個のビンを設定し、それぞれの幅を設定.\n",
    "bins = [100, 150, 180, 195, 205, 220, 250, 300]\n",
    "\n",
    "# ビンの幅が異なるヒストグラムをプロット\n",
    "ax2.hist(x,                     # データを設定\n",
    "         bins,                  # ビンを設定\n",
    "         density=True,          # バーの表示を確率にする\n",
    "         histtype='bar',        # 基本的な形状のバー\n",
    "         rwidth=0.8             # バーの幅を小さくして間隔を空ける\n",
    "        )\n",
    "ax2.set_title('Specify the width of the bin')\n",
    "\n",
    "plt.show()"
   ]
  },
  {
   "cell_type": "code",
   "execution_count": null,
   "metadata": {},
   "outputs": [],
   "source": []
  }
 ],
 "metadata": {
  "kernelspec": {
   "display_name": "Python 3",
   "language": "python",
   "name": "python3"
  },
  "language_info": {
   "codemirror_mode": {
    "name": "ipython",
    "version": 3
   },
   "file_extension": ".py",
   "mimetype": "text/x-python",
   "name": "python",
   "nbconvert_exporter": "python",
   "pygments_lexer": "ipython3",
   "version": "3.6.6"
  }
 },
 "nbformat": 4,
 "nbformat_minor": 2
}
