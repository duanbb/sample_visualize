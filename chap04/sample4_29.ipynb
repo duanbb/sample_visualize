{
 "cells": [
  {
   "cell_type": "code",
   "execution_count": 31,
   "metadata": {},
   "outputs": [
    {
     "data": {
      "image/png": "[encoded data removed]",
      "text/plain": [
       "<Figure size 504x288 with 1 Axes>"
      ]
     },
     "metadata": {},
     "output_type": "display_data"
    }
   ],
   "source": [
    "# サンプル4-29\n",
    "%matplotlib inline\n",
    "import numpy as np\n",
    "import matplotlib.pyplot as plt\n",
    "\n",
    "# 10個の等差数列\n",
    "x = np.array([0.5, 1.0, 1.5, 2.0, 2.5, 3.0, 3.5, 4.0, 4.5, 5.0])\n",
    "# ネイピア数の-x乗\n",
    "y = np.exp(-x)\n",
    "# エラーバーの長さ\n",
    "xerr = 0.1\n",
    "yerr = 0.2\n",
    "\n",
    "# Figure上にAxesを配置\n",
    "fig, ax = plt.subplots(figsize=(7, 4))\n",
    "\n",
    "# エラーの上限\n",
    "uplims = np.array([1, 1, 0, 0, 0, 1, 0, 0, 0, 1], dtype=bool)\n",
    "# エラーバーの上限の表示／非表示を設定\n",
    "ax.errorbar(x, y,               # エラーバーをプロットする座標\n",
    "            yerr=yerr,          # 垂直方向のエラーバーのサイズを設定\n",
    "            uplims=uplims,      # エラーバーの上限の表示／非表示を設定\n",
    "            linestyle=ls,       # ラインのスタイルをドットにする\n",
    "           )\n",
    "plt.show()"
   ]
  },
  {
   "cell_type": "code",
   "execution_count": 33,
   "metadata": {},
   "outputs": [
    {
     "data": {
      "image/png": "[encoded data removed]",
      "text/plain": [
       "<Figure size 504x288 with 1 Axes>"
      ]
     },
     "metadata": {},
     "output_type": "display_data"
    }
   ],
   "source": [
    "# サンプル4-29-1\n",
    "%matplotlib inline\n",
    "import numpy as np\n",
    "import matplotlib.pyplot as plt\n",
    "\n",
    "# 10個の等差数列\n",
    "x = np.array([0.5, 1.0, 1.5, 2.0, 2.5, 3.0, 3.5, 4.0, 4.5, 5.0])\n",
    "# ネイピア数の-x乗\n",
    "y = np.exp(-x)\n",
    "# エラーバーの長さ\n",
    "xerr = 0.1\n",
    "yerr = 0.2\n",
    "\n",
    "# エラーの上側と下側の表示／非表示\n",
    "uplims = np.array([1, 1, 0, 0, 0, 1, 0, 0, 0, 1], dtype=bool)\n",
    "lolims = np.array([0, 0, 1, 0, 1, 0, 0, 0, 1, 0], dtype=bool)\n",
    "ls = 'dotted'\n",
    "\n",
    "# Figure上にAxesを配置\n",
    "fig, ax = plt.subplots(figsize=(7, 4))\n",
    "\n",
    "# 標準的なエラーバー\n",
    "ax.errorbar(x, y,               # エラーバーをプロットする座標\n",
    "            xerr=xerr,          # 水平方向のエラーバーのサイズを設定\n",
    "            yerr=yerr,          # 垂直方向のエラーバーのサイズを設定\n",
    "            fmt='o',            # マーカーの形状を円にする\n",
    "            linestyle=ls,       # ラインのスタイルをドットにする\n",
    "            color='blue'        # ラインの色(エラーバーにも適用)\n",
    "           )\n",
    "\n",
    "# エラーバーの上側の表示／非表示を設定\n",
    "ax.errorbar(x, y + 0.5,         # エラーバーをプロットする座標\n",
    "            xerr=xerr,          # 水平方向のエラーバーのサイズを設定\n",
    "            yerr=yerr,          # 垂直方向のエラーバーのサイズを設定\n",
    "            uplims=uplims,      # エラーバーの上側の表示／非表示を設定\n",
    "            linestyle=ls,       # ラインのスタイルをドットにする\n",
    "            color='red'         # ラインの色(エラーバーにも適用)\n",
    "           )\n",
    "\n",
    "# エラーバーの下側の表示／非表示を設定\n",
    "ax.errorbar(x, y + 1.0,         # エラーバーをプロットする座標\n",
    "            xerr=xerr,          # 水平方向のエラーバーのサイズを設定\n",
    "            yerr=yerr,          # 垂直方向のエラーバーのサイズを設定\n",
    "            lolims=lolims,      # エラーバーの下側の表示／非表示を設定\n",
    "            linestyle=ls,       # ラインのスタイルをドットにする\n",
    "            color='deepskyblue' # ラインの色(エラーバーにも適用)\n",
    "           )\n",
    "\n",
    "# エラーバーの上側、下側の表示／非表示を設定\n",
    "# マーカーを大きく表示し、ラインは非表示にする\n",
    "ax.errorbar(x, y + 1.5,        # エラーバーをプロットする座標\n",
    "            xerr=xerr,         # 水平方向のエラーバーのサイズを設定\n",
    "            yerr=yerr,         # 垂直方向のエラーバーのサイズを設定\n",
    "            uplims=uplims,     # エラーバーの上側の表示／非表示を設定\n",
    "            lolims=lolims,     # エラーバーの下側の表示／非表示を設定\n",
    "            fmt='o',           # マーカーの形状を円にする\n",
    "            markersize=8,      # マーカーのサイズを8ptにする\n",
    "            linestyle='none',  # ラインを非表示にする\n",
    "            color='purple'     # ラインの色(エラーバーにも適用)\n",
    "           )\n",
    "\n",
    "# エラーバーの上側、下側の表示／非表示を設定\n",
    "# マーカーを非表示にする(ラインも非表示になる)\n",
    "ax.errorbar(x, y + 2.0,        # エラーバーをプロットする座標\n",
    "            xerr=xerr,         # 水平方向のエラーバーのサイズを設定\n",
    "            yerr=yerr,         # 垂直方向のエラーバーのサイズを設定\n",
    "            uplims=uplims,     # エラーバーの上限の表示／非表示を設定\n",
    "            lolims=lolims,     # エラーバーの下限の表示／非表示を設定\n",
    "            fmt = 'none',      # マーカーを表示しない(ラインも非表示になる)\n",
    "            markersize=8,      # マーカーのサイズを8ptにする\n",
    "            color='navy'       # ラインの色(エラーバーにも適用)\n",
    "           )\n",
    "\n",
    "# x軸の範囲とグラフタイトルを設定\n",
    "ax.set_xlim((0, 5.5))\n",
    "ax.set_title('Errorbar upper and lower limits')\n",
    "plt.show()"
   ]
  },
  {
   "cell_type": "code",
   "execution_count": 2,
   "metadata": {},
   "outputs": [
    {
     "data": {
      "text/plain": [
       "array([  1.64872127,   2.71828183,   4.48168907,   7.3890561 ,\n",
       "        12.18249396,  20.08553692,  33.11545196,  54.59815003,\n",
       "        90.0171313 , 148.4131591 ])"
      ]
     },
     "execution_count": 2,
     "metadata": {},
     "output_type": "execute_result"
    }
   ],
   "source": [
    "np.exp(x)"
   ]
  },
  {
   "cell_type": "code",
   "execution_count": null,
   "metadata": {},
   "outputs": [],
   "source": []
  }
 ],
 "metadata": {
  "kernelspec": {
   "display_name": "Python 3",
   "language": "python",
   "name": "python3"
  },
  "language_info": {
   "codemirror_mode": {
    "name": "ipython",
    "version": 3
   },
   "file_extension": ".py",
   "mimetype": "text/x-python",
   "name": "python",
   "nbconvert_exporter": "python",
   "pygments_lexer": "ipython3",
   "version": "3.6.6"
  }
 },
 "nbformat": 4,
 "nbformat_minor": 2
}
