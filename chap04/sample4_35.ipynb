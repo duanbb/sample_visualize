{
 "cells": [
  {
   "cell_type": "code",
   "execution_count": 13,
   "metadata": {},
   "outputs": [
    {
     "data": {
      "image/png": "[encoded data removed]",
      "text/plain": [
       "<Figure size 648x288 with 2 Axes>"
      ]
     },
     "metadata": {},
     "output_type": "display_data"
    }
   ],
   "source": [
    "# サンプル4-35-1\n",
    "%matplotlib inline\n",
    "import numpy as np\n",
    "import matplotlib.pyplot as plt\n",
    "\n",
    "# 乱数生成時のシード(種)を固定\n",
    "np.random.seed(0)\n",
    "# 平均0,標準偏差1,2,3,4の正規分布からそれぞれ100個のデータをサンプリング\n",
    "# サイズ100のリスト×4をdataに格納\n",
    "data = [np.random.normal(0, std, size=100) for std in range(1, 5)]\n",
    "\n",
    "# x軸のラベルテキスト\n",
    "labels = ['x1', 'x2', 'x3', 'x4']\n",
    "\n",
    "# Figure上に1行×3列のグリッドを配置\n",
    "fig, axes = plt.subplots(1, 2, figsize=(9, 4))\n",
    "\n",
    "# ボックスプロットして描画情報を取得\n",
    "bplot1 = axes[0].boxplot(data,\n",
    "                         labels=labels,     # ラベルをセット\n",
    "                         patch_artist=True, # ボックスを塗りつぶせるようにする\n",
    "                         )\n",
    "axes[0].set_title('Rectangular box')\n",
    "\n",
    "# くぼみ付きのボックスプロットして描画情報を取得\n",
    "bplot2 = axes[1].boxplot(data,\n",
    "                         labels=labels,     # ラベルをセット\n",
    "                         notch=True,        # ボックスにくぼみを付ける\n",
    "                         patch_artist=True, # ボックスを塗りつぶせるようにする\n",
    "                        )\n",
    "axes[1].set_title('Notched box')\n",
    "\n",
    "# ボックスを塗るつぶすカラーのリスト\n",
    "colors = ['pink', 'lightblue', 'lightgreen', 'skyblue']\n",
    "\n",
    "for bplot in (bplot1, bplot2):              # 描画情報のディクショナリを順番に処理\n",
    "    for patch, color in zip(bplot['boxes'], # ボックスプロットの本体\n",
    "                            colors          # カラーのリスト\n",
    "                           ):\n",
    "        patch.set_facecolor(color)          # ボックス本体のカラーをセット\n",
    "\n",
    "# 水平のグリッドラインを表示\n",
    "for ax in axes:\n",
    "    ax.yaxis.grid(True)\n",
    "\n",
    "plt.show()"
   ]
  },
  {
   "cell_type": "code",
   "execution_count": 5,
   "metadata": {},
   "outputs": [
    {
     "data": {
      "text/plain": [
       "{'whiskers': [<matplotlib.lines.Line2D at 0x2221f821d30>,\n",
       "  <matplotlib.lines.Line2D at 0x2221f821e80>,\n",
       "  <matplotlib.lines.Line2D at 0x2221f8309b0>,\n",
       "  <matplotlib.lines.Line2D at 0x2221f830b00>,\n",
       "  <matplotlib.lines.Line2D at 0x2221f8425c0>,\n",
       "  <matplotlib.lines.Line2D at 0x2221f842710>],\n",
       " 'caps': [<matplotlib.lines.Line2D at 0x2221f827358>,\n",
       "  <matplotlib.lines.Line2D at 0x2221f827780>,\n",
       "  <matplotlib.lines.Line2D at 0x2221f830f28>,\n",
       "  <matplotlib.lines.Line2D at 0x2221f837390>,\n",
       "  <matplotlib.lines.Line2D at 0x2221f842b38>,\n",
       "  <matplotlib.lines.Line2D at 0x2221f842f60>],\n",
       " 'boxes': [<matplotlib.patches.PathPatch at 0x2221f821ac8>,\n",
       "  <matplotlib.patches.PathPatch at 0x2221f830748>,\n",
       "  <matplotlib.patches.PathPatch at 0x2221f842358>],\n",
       " 'medians': [<matplotlib.lines.Line2D at 0x2221f827ba8>,\n",
       "  <matplotlib.lines.Line2D at 0x2221f8377b8>,\n",
       "  <matplotlib.lines.Line2D at 0x2221f84a3c8>],\n",
       " 'fliers': [<matplotlib.lines.Line2D at 0x2221f827fd0>,\n",
       "  <matplotlib.lines.Line2D at 0x2221f837be0>,\n",
       "  <matplotlib.lines.Line2D at 0x2221f84a7f0>],\n",
       " 'means': []}"
      ]
     },
     "execution_count": 5,
     "metadata": {},
     "output_type": "execute_result"
    }
   ],
   "source": [
    "bplot1"
   ]
  },
  {
   "cell_type": "code",
   "execution_count": 7,
   "metadata": {},
   "outputs": [
    {
     "data": {
      "text/plain": [
       "dict"
      ]
     },
     "execution_count": 7,
     "metadata": {},
     "output_type": "execute_result"
    }
   ],
   "source": [
    "type(bplot1)"
   ]
  },
  {
   "cell_type": "code",
   "execution_count": null,
   "metadata": {},
   "outputs": [],
   "source": []
  }
 ],
 "metadata": {
  "kernelspec": {
   "display_name": "Python 3",
   "language": "python",
   "name": "python3"
  },
  "language_info": {
   "codemirror_mode": {
    "name": "ipython",
    "version": 3
   },
   "file_extension": ".py",
   "mimetype": "text/x-python",
   "name": "python",
   "nbconvert_exporter": "python",
   "pygments_lexer": "ipython3",
   "version": "3.6.6"
  }
 },
 "nbformat": 4,
 "nbformat_minor": 2
}
